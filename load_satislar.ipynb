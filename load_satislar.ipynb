{
 "cells": [
  {
   "cell_type": "code",
   "execution_count": 4,
   "id": "0763f9d2",
   "metadata": {},
   "outputs": [
    {
     "data": {
      "application/vnd.microsoft.datawrangler.viewer.v0+json": {
       "columns": [
        {
         "name": "index",
         "rawType": "int64",
         "type": "integer"
        },
        {
         "name": "TRX NO",
         "rawType": "int64",
         "type": "integer"
        },
        {
         "name": "Product_ID",
         "rawType": "int64",
         "type": "integer"
        },
        {
         "name": "Sale_Date",
         "rawType": "datetime64[ns]",
         "type": "datetime"
        },
        {
         "name": "Sales_Rep",
         "rawType": "object",
         "type": "string"
        },
        {
         "name": "Region",
         "rawType": "object",
         "type": "string"
        },
        {
         "name": "Quantity_Sold",
         "rawType": "int64",
         "type": "integer"
        },
        {
         "name": "Product_Category",
         "rawType": "object",
         "type": "string"
        },
        {
         "name": "Unit_Cost",
         "rawType": "object",
         "type": "string"
        },
        {
         "name": "Unit_Price",
         "rawType": "object",
         "type": "string"
        },
        {
         "name": "Customer_Type",
         "rawType": "object",
         "type": "string"
        },
        {
         "name": "Discount",
         "rawType": "object",
         "type": "string"
        },
        {
         "name": "Payment_Method",
         "rawType": "object",
         "type": "string"
        },
        {
         "name": "Sales_Channel",
         "rawType": "object",
         "type": "string"
        }
       ],
       "conversionMethod": "pd.DataFrame",
       "ref": "0c94f3b6-2a49-4eac-8a31-8fe5b0e6de06",
       "rows": [
        [
         "0",
         "1",
         "1052",
         "2023-02-03 00:00:00",
         "Bob",
         "North",
         "18",
         "Furniture",
         "152,75",
         "267,22",
         "Returning",
         "0,09",
         "Cash",
         "Online"
        ],
        [
         "1",
         "2",
         "1093",
         "2023-04-21 00:00:00",
         "Bob",
         "West",
         "17",
         "Furniture",
         "3816,39",
         "4209,44",
         "Returning",
         "0,11",
         "Cash",
         "Retail"
        ],
        [
         "2",
         "3",
         "1015",
         "2023-09-21 00:00:00",
         "David",
         "South",
         "30",
         "Food",
         "261,56",
         "371,4",
         "Returning",
         "0,2",
         "Bank Transfer",
         "Retail"
        ],
        [
         "3",
         "4",
         "1072",
         "2023-08-24 00:00:00",
         "Bob",
         "South",
         "39",
         "Clothing",
         "4330,03",
         "4467,75",
         "New",
         "0,02",
         "Credit Card",
         "Retail"
        ],
        [
         "4",
         "5",
         "1061",
         "2023-03-24 00:00:00",
         "Charlie",
         "East",
         "13",
         "Electronics",
         "637,37",
         "692,71",
         "New",
         "0,08",
         "Credit Card",
         "Online"
        ]
       ],
       "shape": {
        "columns": 13,
        "rows": 5
       }
      },
      "text/html": [
       "<div>\n",
       "<style scoped>\n",
       "    .dataframe tbody tr th:only-of-type {\n",
       "        vertical-align: middle;\n",
       "    }\n",
       "\n",
       "    .dataframe tbody tr th {\n",
       "        vertical-align: top;\n",
       "    }\n",
       "\n",
       "    .dataframe thead th {\n",
       "        text-align: right;\n",
       "    }\n",
       "</style>\n",
       "<table border=\"1\" class=\"dataframe\">\n",
       "  <thead>\n",
       "    <tr style=\"text-align: right;\">\n",
       "      <th></th>\n",
       "      <th>TRX NO</th>\n",
       "      <th>Product_ID</th>\n",
       "      <th>Sale_Date</th>\n",
       "      <th>Sales_Rep</th>\n",
       "      <th>Region</th>\n",
       "      <th>Quantity_Sold</th>\n",
       "      <th>Product_Category</th>\n",
       "      <th>Unit_Cost</th>\n",
       "      <th>Unit_Price</th>\n",
       "      <th>Customer_Type</th>\n",
       "      <th>Discount</th>\n",
       "      <th>Payment_Method</th>\n",
       "      <th>Sales_Channel</th>\n",
       "    </tr>\n",
       "  </thead>\n",
       "  <tbody>\n",
       "    <tr>\n",
       "      <th>0</th>\n",
       "      <td>1</td>\n",
       "      <td>1052</td>\n",
       "      <td>2023-02-03</td>\n",
       "      <td>Bob</td>\n",
       "      <td>North</td>\n",
       "      <td>18</td>\n",
       "      <td>Furniture</td>\n",
       "      <td>152,75</td>\n",
       "      <td>267,22</td>\n",
       "      <td>Returning</td>\n",
       "      <td>0,09</td>\n",
       "      <td>Cash</td>\n",
       "      <td>Online</td>\n",
       "    </tr>\n",
       "    <tr>\n",
       "      <th>1</th>\n",
       "      <td>2</td>\n",
       "      <td>1093</td>\n",
       "      <td>2023-04-21</td>\n",
       "      <td>Bob</td>\n",
       "      <td>West</td>\n",
       "      <td>17</td>\n",
       "      <td>Furniture</td>\n",
       "      <td>3816,39</td>\n",
       "      <td>4209,44</td>\n",
       "      <td>Returning</td>\n",
       "      <td>0,11</td>\n",
       "      <td>Cash</td>\n",
       "      <td>Retail</td>\n",
       "    </tr>\n",
       "    <tr>\n",
       "      <th>2</th>\n",
       "      <td>3</td>\n",
       "      <td>1015</td>\n",
       "      <td>2023-09-21</td>\n",
       "      <td>David</td>\n",
       "      <td>South</td>\n",
       "      <td>30</td>\n",
       "      <td>Food</td>\n",
       "      <td>261,56</td>\n",
       "      <td>371,4</td>\n",
       "      <td>Returning</td>\n",
       "      <td>0,2</td>\n",
       "      <td>Bank Transfer</td>\n",
       "      <td>Retail</td>\n",
       "    </tr>\n",
       "    <tr>\n",
       "      <th>3</th>\n",
       "      <td>4</td>\n",
       "      <td>1072</td>\n",
       "      <td>2023-08-24</td>\n",
       "      <td>Bob</td>\n",
       "      <td>South</td>\n",
       "      <td>39</td>\n",
       "      <td>Clothing</td>\n",
       "      <td>4330,03</td>\n",
       "      <td>4467,75</td>\n",
       "      <td>New</td>\n",
       "      <td>0,02</td>\n",
       "      <td>Credit Card</td>\n",
       "      <td>Retail</td>\n",
       "    </tr>\n",
       "    <tr>\n",
       "      <th>4</th>\n",
       "      <td>5</td>\n",
       "      <td>1061</td>\n",
       "      <td>2023-03-24</td>\n",
       "      <td>Charlie</td>\n",
       "      <td>East</td>\n",
       "      <td>13</td>\n",
       "      <td>Electronics</td>\n",
       "      <td>637,37</td>\n",
       "      <td>692,71</td>\n",
       "      <td>New</td>\n",
       "      <td>0,08</td>\n",
       "      <td>Credit Card</td>\n",
       "      <td>Online</td>\n",
       "    </tr>\n",
       "  </tbody>\n",
       "</table>\n",
       "</div>"
      ],
      "text/plain": [
       "   TRX NO  Product_ID  Sale_Date Sales_Rep Region  Quantity_Sold  \\\n",
       "0       1        1052 2023-02-03       Bob  North             18   \n",
       "1       2        1093 2023-04-21       Bob   West             17   \n",
       "2       3        1015 2023-09-21     David  South             30   \n",
       "3       4        1072 2023-08-24       Bob  South             39   \n",
       "4       5        1061 2023-03-24   Charlie   East             13   \n",
       "\n",
       "  Product_Category Unit_Cost Unit_Price Customer_Type Discount Payment_Method  \\\n",
       "0        Furniture    152,75     267,22     Returning     0,09           Cash   \n",
       "1        Furniture   3816,39    4209,44     Returning     0,11           Cash   \n",
       "2             Food    261,56      371,4     Returning      0,2  Bank Transfer   \n",
       "3         Clothing   4330,03    4467,75           New     0,02    Credit Card   \n",
       "4      Electronics    637,37     692,71           New     0,08    Credit Card   \n",
       "\n",
       "  Sales_Channel  \n",
       "0        Online  \n",
       "1        Retail  \n",
       "2        Retail  \n",
       "3        Retail  \n",
       "4        Online  "
      ]
     },
     "execution_count": 4,
     "metadata": {},
     "output_type": "execute_result"
    }
   ],
   "source": [
    "import pandas as pd\n",
    "\n",
    "# Load the CSV file into a DataFrame\n",
    "file_path = '/Users/mervesarac/Downloads/satislar.csv'\n",
    "sales_data = pd.read_csv(file_path, sep=';', encoding='utf-8')\n",
    "# Parse the Sale_Date column as datetime\n",
    "sales_data['Sale_Date'] = pd.to_datetime(sales_data['Sale_Date'], format='%d.%m.%Y')\n",
    "# Display the first few rows of the DataFrame\n",
    "sales_data.head()"
   ]
  },
  {
   "cell_type": "code",
   "execution_count": 5,
   "id": "844cb662",
   "metadata": {},
   "outputs": [],
   "source": [
    "import sqlite3\n",
    "\n",
    "# Connect to the SQLite database (or create it if it doesn't exist)\n",
    "conn = sqlite3.connect('analiz.db')\n",
    "\n",
    "# Write the DataFrame to the SQLite database as a table named 'sales'\n",
    "sales_data.to_sql('satislar', conn, if_exists='replace', index=False)\n",
    "\n",
    "# Close the connection\n",
    "conn.close()"
   ]
  }
 ],
 "metadata": {
  "kernelspec": {
   "display_name": "venv",
   "language": "python",
   "name": "python3"
  },
  "language_info": {
   "codemirror_mode": {
    "name": "ipython",
    "version": 3
   },
   "file_extension": ".py",
   "mimetype": "text/x-python",
   "name": "python",
   "nbconvert_exporter": "python",
   "pygments_lexer": "ipython3",
   "version": "3.11.6"
  }
 },
 "nbformat": 4,
 "nbformat_minor": 5
}
