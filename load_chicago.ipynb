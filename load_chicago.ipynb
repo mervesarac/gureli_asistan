{
 "cells": [
  {
   "cell_type": "code",
   "execution_count": 2,
   "id": "95aaca9e",
   "metadata": {},
   "outputs": [
    {
     "data": {
      "application/vnd.microsoft.datawrangler.viewer.v0+json": {
       "columns": [
        {
         "name": "index",
         "rawType": "int64",
         "type": "integer"
        },
        {
         "name": "Name",
         "rawType": "object",
         "type": "string"
        },
        {
         "name": "Job Titles",
         "rawType": "object",
         "type": "string"
        },
        {
         "name": "Department",
         "rawType": "object",
         "type": "string"
        },
        {
         "name": "Full or Part-Time",
         "rawType": "object",
         "type": "string"
        },
        {
         "name": "Salary or Hourly",
         "rawType": "object",
         "type": "string"
        },
        {
         "name": "Typical Hours",
         "rawType": "float64",
         "type": "float"
        },
        {
         "name": "Annual Salary",
         "rawType": "float64",
         "type": "float"
        },
        {
         "name": "Hourly Rate",
         "rawType": "float64",
         "type": "float"
        }
       ],
       "conversionMethod": "pd.DataFrame",
       "ref": "d0274c27-ad44-4d08-8b95-044d2c3bc356",
       "rows": [
        [
         "0",
         "CABALLERO, SAMUEL A",
         "FOREMAN OF MOTOR TRUCK DRIVERS",
         "DEPT STREETS AND SANITATION",
         "F",
         "HOURLY",
         "40.0",
         null,
         "41.41"
        ],
        [
         "1",
         "CHAPMAN, BRYAN A",
         "FIREFIGHTER-EMT (RECRUIT)",
         "FIRE DEPARTMENT",
         "F",
         "SALARY",
         null,
         "80448.0",
         null
        ],
        [
         "2",
         "MUNOZ, LISSETTE C",
         "POLICE OFFICER",
         "DEPARTMENT OF POLICE",
         "F",
         "SALARY",
         null,
         "97974.0",
         null
        ],
        [
         "3",
         "ALDERDEN, JACOB M",
         "CAPTAIN",
         "DEPARTMENT OF POLICE",
         "F",
         "SALARY",
         null,
         "159552.0",
         null
        ],
        [
         "4",
         "JOHNSON, ANTHONY L",
         "MOTOR TRUCK DRIVER",
         "DEPT OF WATER MANAGEMENT",
         "F",
         "HOURLY",
         "40.0",
         null,
         "39.25"
        ]
       ],
       "shape": {
        "columns": 8,
        "rows": 5
       }
      },
      "text/html": [
       "<div>\n",
       "<style scoped>\n",
       "    .dataframe tbody tr th:only-of-type {\n",
       "        vertical-align: middle;\n",
       "    }\n",
       "\n",
       "    .dataframe tbody tr th {\n",
       "        vertical-align: top;\n",
       "    }\n",
       "\n",
       "    .dataframe thead th {\n",
       "        text-align: right;\n",
       "    }\n",
       "</style>\n",
       "<table border=\"1\" class=\"dataframe\">\n",
       "  <thead>\n",
       "    <tr style=\"text-align: right;\">\n",
       "      <th></th>\n",
       "      <th>Name</th>\n",
       "      <th>Job Titles</th>\n",
       "      <th>Department</th>\n",
       "      <th>Full or Part-Time</th>\n",
       "      <th>Salary or Hourly</th>\n",
       "      <th>Typical Hours</th>\n",
       "      <th>Annual Salary</th>\n",
       "      <th>Hourly Rate</th>\n",
       "    </tr>\n",
       "  </thead>\n",
       "  <tbody>\n",
       "    <tr>\n",
       "      <th>0</th>\n",
       "      <td>CABALLERO, SAMUEL A</td>\n",
       "      <td>FOREMAN OF MOTOR TRUCK DRIVERS</td>\n",
       "      <td>DEPT STREETS AND SANITATION</td>\n",
       "      <td>F</td>\n",
       "      <td>HOURLY</td>\n",
       "      <td>40.0</td>\n",
       "      <td>NaN</td>\n",
       "      <td>41.41</td>\n",
       "    </tr>\n",
       "    <tr>\n",
       "      <th>1</th>\n",
       "      <td>CHAPMAN, BRYAN A</td>\n",
       "      <td>FIREFIGHTER-EMT (RECRUIT)</td>\n",
       "      <td>FIRE DEPARTMENT</td>\n",
       "      <td>F</td>\n",
       "      <td>SALARY</td>\n",
       "      <td>NaN</td>\n",
       "      <td>80448.0</td>\n",
       "      <td>NaN</td>\n",
       "    </tr>\n",
       "    <tr>\n",
       "      <th>2</th>\n",
       "      <td>MUNOZ, LISSETTE C</td>\n",
       "      <td>POLICE OFFICER</td>\n",
       "      <td>DEPARTMENT OF POLICE</td>\n",
       "      <td>F</td>\n",
       "      <td>SALARY</td>\n",
       "      <td>NaN</td>\n",
       "      <td>97974.0</td>\n",
       "      <td>NaN</td>\n",
       "    </tr>\n",
       "    <tr>\n",
       "      <th>3</th>\n",
       "      <td>ALDERDEN, JACOB M</td>\n",
       "      <td>CAPTAIN</td>\n",
       "      <td>DEPARTMENT OF POLICE</td>\n",
       "      <td>F</td>\n",
       "      <td>SALARY</td>\n",
       "      <td>NaN</td>\n",
       "      <td>159552.0</td>\n",
       "      <td>NaN</td>\n",
       "    </tr>\n",
       "    <tr>\n",
       "      <th>4</th>\n",
       "      <td>JOHNSON, ANTHONY L</td>\n",
       "      <td>MOTOR TRUCK DRIVER</td>\n",
       "      <td>DEPT OF WATER MANAGEMENT</td>\n",
       "      <td>F</td>\n",
       "      <td>HOURLY</td>\n",
       "      <td>40.0</td>\n",
       "      <td>NaN</td>\n",
       "      <td>39.25</td>\n",
       "    </tr>\n",
       "  </tbody>\n",
       "</table>\n",
       "</div>"
      ],
      "text/plain": [
       "                  Name                      Job Titles  \\\n",
       "0  CABALLERO, SAMUEL A  FOREMAN OF MOTOR TRUCK DRIVERS   \n",
       "1     CHAPMAN, BRYAN A       FIREFIGHTER-EMT (RECRUIT)   \n",
       "2    MUNOZ, LISSETTE C                  POLICE OFFICER   \n",
       "3    ALDERDEN, JACOB M                         CAPTAIN   \n",
       "4   JOHNSON, ANTHONY L              MOTOR TRUCK DRIVER   \n",
       "\n",
       "                    Department Full or Part-Time Salary or Hourly  \\\n",
       "0  DEPT STREETS AND SANITATION                 F           HOURLY   \n",
       "1              FIRE DEPARTMENT                 F           SALARY   \n",
       "2         DEPARTMENT OF POLICE                 F           SALARY   \n",
       "3         DEPARTMENT OF POLICE                 F           SALARY   \n",
       "4     DEPT OF WATER MANAGEMENT                 F           HOURLY   \n",
       "\n",
       "   Typical Hours  Annual Salary  Hourly Rate  \n",
       "0           40.0            NaN        41.41  \n",
       "1            NaN        80448.0          NaN  \n",
       "2            NaN        97974.0          NaN  \n",
       "3            NaN       159552.0          NaN  \n",
       "4           40.0            NaN        39.25  "
      ]
     },
     "execution_count": 2,
     "metadata": {},
     "output_type": "execute_result"
    }
   ],
   "source": [
    "import pandas as pd\n",
    "\n",
    "# Load the CSV file into a DataFrame\n",
    "file_path = '~/Downloads/Current_Employee_Names__Salaries__and_Position_Titles.csv'\n",
    "chicago = pd.read_csv(file_path)\n",
    "\n",
    "# Display the first few rows of the DataFrame\n",
    "chicago.head()"
   ]
  },
  {
   "cell_type": "code",
   "execution_count": 3,
   "id": "475f734e",
   "metadata": {},
   "outputs": [],
   "source": [
    "import sqlite3\n",
    "\n",
    "# Connect to the SQLite database (it will create the database if it doesn't exist)\n",
    "conn = sqlite3.connect('crm_subat.db')\n",
    "\n",
    "# Write the DataFrame to a table named 'expense_data' in the database\n",
    "chicago.to_sql('chicago_data', conn, if_exists='replace', index=False)\n",
    "\n",
    "# Close the connection\n",
    "conn.close()"
   ]
  },
  {
   "cell_type": "code",
   "execution_count": 12,
   "id": "d494809f",
   "metadata": {},
   "outputs": [],
   "source": [
    "# Connect to the SQLite database\n",
    "conn = sqlite3.connect('crm_subat.db')\n",
    "\n",
    "# Execute the SQL command to drop the table\n",
    "cursor = conn.cursor()\n",
    "cursor.execute(\"DROP TABLE IF EXISTS expense_data\")\n",
    "\n",
    "# Commit the changes and close the connection\n",
    "conn.commit()\n",
    "conn.close()"
   ]
  }
 ],
 "metadata": {
  "kernelspec": {
   "display_name": "venv",
   "language": "python",
   "name": "python3"
  },
  "language_info": {
   "codemirror_mode": {
    "name": "ipython",
    "version": 3
   },
   "file_extension": ".py",
   "mimetype": "text/x-python",
   "name": "python",
   "nbconvert_exporter": "python",
   "pygments_lexer": "ipython3",
   "version": "3.11.6"
  }
 },
 "nbformat": 4,
 "nbformat_minor": 5
}
