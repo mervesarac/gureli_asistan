{
 "cells": [
  {
   "cell_type": "code",
   "execution_count": 2,
   "id": "0763f9d2",
   "metadata": {},
   "outputs": [
    {
     "data": {
      "application/vnd.microsoft.datawrangler.viewer.v0+json": {
       "columns": [
        {
         "name": "index",
         "rawType": "int64",
         "type": "integer"
        },
        {
         "name": "Product_ID",
         "rawType": "int64",
         "type": "integer"
        },
        {
         "name": "Sale_Date",
         "rawType": "datetime64[ns]",
         "type": "datetime"
        },
        {
         "name": "Sales_Rep",
         "rawType": "object",
         "type": "string"
        },
        {
         "name": "Region",
         "rawType": "object",
         "type": "string"
        },
        {
         "name": "Sales_Amount",
         "rawType": "float64",
         "type": "float"
        },
        {
         "name": "Quantity_Sold",
         "rawType": "int64",
         "type": "integer"
        },
        {
         "name": "Product_Category",
         "rawType": "object",
         "type": "string"
        },
        {
         "name": "Unit_Cost",
         "rawType": "float64",
         "type": "float"
        },
        {
         "name": "Unit_Price",
         "rawType": "float64",
         "type": "float"
        },
        {
         "name": "Customer_Type",
         "rawType": "object",
         "type": "string"
        },
        {
         "name": "Discount",
         "rawType": "float64",
         "type": "float"
        },
        {
         "name": "Payment_Method",
         "rawType": "object",
         "type": "string"
        },
        {
         "name": "Sales_Channel",
         "rawType": "object",
         "type": "string"
        },
        {
         "name": "Region_and_Sales_Rep",
         "rawType": "object",
         "type": "string"
        }
       ],
       "conversionMethod": "pd.DataFrame",
       "ref": "e4206556-8e6b-42b9-a375-2a87a0c43c5d",
       "rows": [
        [
         "0",
         "1052",
         "2023-02-03 00:00:00",
         "Bob",
         "North",
         "5053.97",
         "18",
         "Furniture",
         "152.75",
         "267.22",
         "Returning",
         "0.09",
         "Cash",
         "Online",
         "North-Bob"
        ],
        [
         "1",
         "1093",
         "2023-04-21 00:00:00",
         "Bob",
         "West",
         "4384.02",
         "17",
         "Furniture",
         "3816.39",
         "4209.44",
         "Returning",
         "0.11",
         "Cash",
         "Retail",
         "West-Bob"
        ],
        [
         "2",
         "1015",
         "2023-09-21 00:00:00",
         "David",
         "South",
         "4631.23",
         "30",
         "Food",
         "261.56",
         "371.4",
         "Returning",
         "0.2",
         "Bank Transfer",
         "Retail",
         "South-David"
        ],
        [
         "3",
         "1072",
         "2023-08-24 00:00:00",
         "Bob",
         "South",
         "2167.94",
         "39",
         "Clothing",
         "4330.03",
         "4467.75",
         "New",
         "0.02",
         "Credit Card",
         "Retail",
         "South-Bob"
        ],
        [
         "4",
         "1061",
         "2023-03-24 00:00:00",
         "Charlie",
         "East",
         "3750.2",
         "13",
         "Electronics",
         "637.37",
         "692.71",
         "New",
         "0.08",
         "Credit Card",
         "Online",
         "East-Charlie"
        ]
       ],
       "shape": {
        "columns": 14,
        "rows": 5
       }
      },
      "text/html": [
       "<div>\n",
       "<style scoped>\n",
       "    .dataframe tbody tr th:only-of-type {\n",
       "        vertical-align: middle;\n",
       "    }\n",
       "\n",
       "    .dataframe tbody tr th {\n",
       "        vertical-align: top;\n",
       "    }\n",
       "\n",
       "    .dataframe thead th {\n",
       "        text-align: right;\n",
       "    }\n",
       "</style>\n",
       "<table border=\"1\" class=\"dataframe\">\n",
       "  <thead>\n",
       "    <tr style=\"text-align: right;\">\n",
       "      <th></th>\n",
       "      <th>Product_ID</th>\n",
       "      <th>Sale_Date</th>\n",
       "      <th>Sales_Rep</th>\n",
       "      <th>Region</th>\n",
       "      <th>Sales_Amount</th>\n",
       "      <th>Quantity_Sold</th>\n",
       "      <th>Product_Category</th>\n",
       "      <th>Unit_Cost</th>\n",
       "      <th>Unit_Price</th>\n",
       "      <th>Customer_Type</th>\n",
       "      <th>Discount</th>\n",
       "      <th>Payment_Method</th>\n",
       "      <th>Sales_Channel</th>\n",
       "      <th>Region_and_Sales_Rep</th>\n",
       "    </tr>\n",
       "  </thead>\n",
       "  <tbody>\n",
       "    <tr>\n",
       "      <th>0</th>\n",
       "      <td>1052</td>\n",
       "      <td>2023-02-03</td>\n",
       "      <td>Bob</td>\n",
       "      <td>North</td>\n",
       "      <td>5053.97</td>\n",
       "      <td>18</td>\n",
       "      <td>Furniture</td>\n",
       "      <td>152.75</td>\n",
       "      <td>267.22</td>\n",
       "      <td>Returning</td>\n",
       "      <td>0.09</td>\n",
       "      <td>Cash</td>\n",
       "      <td>Online</td>\n",
       "      <td>North-Bob</td>\n",
       "    </tr>\n",
       "    <tr>\n",
       "      <th>1</th>\n",
       "      <td>1093</td>\n",
       "      <td>2023-04-21</td>\n",
       "      <td>Bob</td>\n",
       "      <td>West</td>\n",
       "      <td>4384.02</td>\n",
       "      <td>17</td>\n",
       "      <td>Furniture</td>\n",
       "      <td>3816.39</td>\n",
       "      <td>4209.44</td>\n",
       "      <td>Returning</td>\n",
       "      <td>0.11</td>\n",
       "      <td>Cash</td>\n",
       "      <td>Retail</td>\n",
       "      <td>West-Bob</td>\n",
       "    </tr>\n",
       "    <tr>\n",
       "      <th>2</th>\n",
       "      <td>1015</td>\n",
       "      <td>2023-09-21</td>\n",
       "      <td>David</td>\n",
       "      <td>South</td>\n",
       "      <td>4631.23</td>\n",
       "      <td>30</td>\n",
       "      <td>Food</td>\n",
       "      <td>261.56</td>\n",
       "      <td>371.40</td>\n",
       "      <td>Returning</td>\n",
       "      <td>0.20</td>\n",
       "      <td>Bank Transfer</td>\n",
       "      <td>Retail</td>\n",
       "      <td>South-David</td>\n",
       "    </tr>\n",
       "    <tr>\n",
       "      <th>3</th>\n",
       "      <td>1072</td>\n",
       "      <td>2023-08-24</td>\n",
       "      <td>Bob</td>\n",
       "      <td>South</td>\n",
       "      <td>2167.94</td>\n",
       "      <td>39</td>\n",
       "      <td>Clothing</td>\n",
       "      <td>4330.03</td>\n",
       "      <td>4467.75</td>\n",
       "      <td>New</td>\n",
       "      <td>0.02</td>\n",
       "      <td>Credit Card</td>\n",
       "      <td>Retail</td>\n",
       "      <td>South-Bob</td>\n",
       "    </tr>\n",
       "    <tr>\n",
       "      <th>4</th>\n",
       "      <td>1061</td>\n",
       "      <td>2023-03-24</td>\n",
       "      <td>Charlie</td>\n",
       "      <td>East</td>\n",
       "      <td>3750.20</td>\n",
       "      <td>13</td>\n",
       "      <td>Electronics</td>\n",
       "      <td>637.37</td>\n",
       "      <td>692.71</td>\n",
       "      <td>New</td>\n",
       "      <td>0.08</td>\n",
       "      <td>Credit Card</td>\n",
       "      <td>Online</td>\n",
       "      <td>East-Charlie</td>\n",
       "    </tr>\n",
       "  </tbody>\n",
       "</table>\n",
       "</div>"
      ],
      "text/plain": [
       "   Product_ID  Sale_Date Sales_Rep Region  Sales_Amount  Quantity_Sold  \\\n",
       "0        1052 2023-02-03       Bob  North       5053.97             18   \n",
       "1        1093 2023-04-21       Bob   West       4384.02             17   \n",
       "2        1015 2023-09-21     David  South       4631.23             30   \n",
       "3        1072 2023-08-24       Bob  South       2167.94             39   \n",
       "4        1061 2023-03-24   Charlie   East       3750.20             13   \n",
       "\n",
       "  Product_Category  Unit_Cost  Unit_Price Customer_Type  Discount  \\\n",
       "0        Furniture     152.75      267.22     Returning      0.09   \n",
       "1        Furniture    3816.39     4209.44     Returning      0.11   \n",
       "2             Food     261.56      371.40     Returning      0.20   \n",
       "3         Clothing    4330.03     4467.75           New      0.02   \n",
       "4      Electronics     637.37      692.71           New      0.08   \n",
       "\n",
       "  Payment_Method Sales_Channel Region_and_Sales_Rep  \n",
       "0           Cash        Online            North-Bob  \n",
       "1           Cash        Retail             West-Bob  \n",
       "2  Bank Transfer        Retail          South-David  \n",
       "3    Credit Card        Retail            South-Bob  \n",
       "4    Credit Card        Online         East-Charlie  "
      ]
     },
     "execution_count": 2,
     "metadata": {},
     "output_type": "execute_result"
    }
   ],
   "source": [
    "import pandas as pd\n",
    "\n",
    "# Load the CSV file into a DataFrame\n",
    "file_path = '/Users/mervesarac/Downloads/sales_data.csv'\n",
    "sales_data = pd.read_csv(file_path)\n",
    "# Parse the Sale_Date column as datetime\n",
    "sales_data['Sale_Date'] = pd.to_datetime(sales_data['Sale_Date'])\n",
    "# Display the first few rows of the DataFrame\n",
    "sales_data.head()"
   ]
  },
  {
   "cell_type": "code",
   "execution_count": 3,
   "id": "844cb662",
   "metadata": {},
   "outputs": [],
   "source": [
    "import sqlite3\n",
    "\n",
    "# Connect to the SQLite database (or create it if it doesn't exist)\n",
    "conn = sqlite3.connect('analiz.db')\n",
    "\n",
    "# Write the DataFrame to the SQLite database as a table named 'sales'\n",
    "sales_data.to_sql('sales', conn, if_exists='replace', index=False)\n",
    "\n",
    "# Close the connection\n",
    "conn.close()"
   ]
  }
 ],
 "metadata": {
  "kernelspec": {
   "display_name": "venv",
   "language": "python",
   "name": "python3"
  },
  "language_info": {
   "codemirror_mode": {
    "name": "ipython",
    "version": 3
   },
   "file_extension": ".py",
   "mimetype": "text/x-python",
   "name": "python",
   "nbconvert_exporter": "python",
   "pygments_lexer": "ipython3",
   "version": "3.11.6"
  }
 },
 "nbformat": 4,
 "nbformat_minor": 5
}
